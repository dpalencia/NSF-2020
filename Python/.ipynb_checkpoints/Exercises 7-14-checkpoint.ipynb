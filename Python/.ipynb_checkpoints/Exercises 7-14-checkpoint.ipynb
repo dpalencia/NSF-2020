{
 "cells": [
  {
   "cell_type": "code",
   "execution_count": 5,
   "metadata": {},
   "outputs": [
    {
     "name": "stdout",
     "output_type": "stream",
     "text": [
      "4\n"
     ]
    }
   ],
   "source": [
    "#8.4\n",
    "def count(s, ch):\n",
    "    count = 0 \n",
    "    for c in s:\n",
    "        if c == ch:\n",
    "            count += 1\n",
    "    return count\n",
    "print(count(\"A quick brown fox jumps over the lazy dog.\", 'o'))"
   ]
  },
  {
   "cell_type": "code",
   "execution_count": 2,
   "metadata": {},
   "outputs": [
    {
     "name": "stdout",
     "output_type": "stream",
     "text": [
      "Enter a list of numbers 40 55 70 58\n",
      "Student 0 score is 40 and has a grade of C\n",
      "Student 1 score is 55 and has a grade of B\n",
      "Student 2 score is 70 and has a grade of A\n",
      "Student 3 score is 58 and has a grade of B\n"
     ]
    }
   ],
   "source": [
    "#10.1\n",
    "def inputInts():\n",
    "    s = input(\"Enter a list of numbers \")\n",
    "    return [int(i) for i in s.split()]\n",
    "\n",
    "def assignGrade(score, best):\n",
    "    letterGrade = 'F'\n",
    "    if score >= best - 10:\n",
    "        letterGrade = 'A'\n",
    "    elif score >= best - 20:\n",
    "        letterGrade = 'B'\n",
    "    elif score >= best - 30:\n",
    "        letterGrade = 'C'\n",
    "    elif score >= best - 40:\n",
    "        letterGrade = 'D'\n",
    "    return letterGrade\n",
    "\n",
    "def assignGrades(l):\n",
    "    for i in range(len(l)):\n",
    "        print(\"Student \" + str(i) + \" score is \" \n",
    "              + str(l[i]) +  \" and has a grade of \" \n",
    "              + assignGrade(l[i], max(l)))\n",
    "\n",
    "inputList = inputInts()\n",
    "assignGrades(inputList)"
   ]
  },
  {
   "cell_type": "code",
   "execution_count": 6,
   "metadata": {},
   "outputs": [
    {
     "name": "stdout",
     "output_type": "stream",
     "text": [
      "Enter a list of numbers 2 5 6 5 4 3 23 43 2\n",
      "*** 10.3 ***\n",
      "2 occurs 2 times.\n",
      "5 occurs 2 times.\n",
      "6 occurs 1 time.\n",
      "4 occurs 1 time.\n",
      "3 occurs 1 time.\n",
      "23 occurs 1 time.\n",
      "43 occurs 1 time.\n"
     ]
    }
   ],
   "source": [
    "\n",
    "#10.3\n",
    "def contains(i, l):\n",
    "    for item in l:\n",
    "        if item == i:\n",
    "            return True\n",
    "    return False\n",
    "\n",
    "def countInts(countNum, l):\n",
    "    count = 0\n",
    "    for n in l:\n",
    "        if n == countNum:\n",
    "            count += 1\n",
    "    return count\n",
    "    \n",
    "#reusing string input function from 10.1\n",
    "inList = inputInts()\n",
    "distinctNumbers = []\n",
    "\n",
    "for n in inList:\n",
    "    if not contains(n, distinctNumbers):\n",
    "        distinctNumbers += [n]\n",
    "\n",
    "occurences = [countInts(i, inList) for i in distinctNumbers]\n",
    "\n",
    "print(\"*** 10.3 ***\")\n",
    "for i in range(len(distinctNumbers)):\n",
    "    print(str(distinctNumbers[i]) + \" occurs \" + str(occurences[i]) \n",
    "          + (\" time.\" if occurences[i] == 1 else \" times.\"))\n"
   ]
  },
  {
   "cell_type": "code",
   "execution_count": 11,
   "metadata": {},
   "outputs": [
    {
     "name": "stdout",
     "output_type": "stream",
     "text": [
      "Enter a list of numbers 1 2 3 2 1 6 3 4 5 2\n",
      "*** 10.5 ***\n",
      "The distinct numbers are [1, 2, 3, 6, 4, 5]\n"
     ]
    }
   ],
   "source": [
    "#10.5\n",
    "numbers = inputInts()\n",
    "distinctNumbers = []\n",
    "for n in numbers:\n",
    "   if not contains(n, distinctNumbers):\n",
    "        distinctNumbers += [n]\n",
    "print(\"*** 10.5 ***\")\n",
    "print(\"The distinct numbers are \" + str(distinctNumbers))"
   ]
  },
  {
   "cell_type": "code",
   "execution_count": 14,
   "metadata": {},
   "outputs": [
    {
     "name": "stdout",
     "output_type": "stream",
     "text": [
      "*** 10.9 ***\n",
      "Mean : 3.1100000000000003\n",
      "Deviation: 1.4774640435557136\n"
     ]
    }
   ],
   "source": [
    "#10.9\n",
    "def mean(x):\n",
    "    return sum(x) / len(x)\n",
    "\n",
    "def deviation(x):\n",
    "    diffs =[((i - mean(x)) ** 2) for i in x]\n",
    "    return (sum(diffs) / len(x)) ** (1/2)\n",
    "# Numbers from 10.9 example input\n",
    "l = [1.9, 2.5, 3.7, 2, 1, 6, 3, 4, 5, 2]\n",
    "print(\"*** 10.9 ***\")\n",
    "print(\"Mean : \" + str(mean(l)))\n",
    "print(\"Deviation: \" + str(deviation(l)))\n",
    "      "
   ]
  },
  {
   "cell_type": "code",
   "execution_count": null,
   "metadata": {},
   "outputs": [],
   "source": [
    "#11.1\n",
    "def sumColumn(m, columnIndex):\n",
    "    total = 0\n",
    "    for row in m:\n",
    "        total += row[columnIndex]\n",
    "    return total\n",
    "m = [\n",
    "    [1,3,4,5],\n",
    "    [6,7,8,9,0],\n",
    "    [5,4,4,4,4],\n",
    "    [6,7,8,9,10]\n",
    "]\n",
    "print(\"*** 11.1 ***\")\n",
    "print(str(sumColumn(m, 0)))"
   ]
  },
  {
   "cell_type": "code",
   "execution_count": 15,
   "metadata": {},
   "outputs": [
    {
     "name": "stdout",
     "output_type": "stream",
     "text": [
      "*** 11.2 ***\n",
      "5\n"
     ]
    }
   ],
   "source": [
    "#11.2\n",
    "def sumMajorDiagonal(m):\n",
    "    total = 0\n",
    "    for i in range(len(m)):\n",
    "        total += m[i][i]\n",
    "    return total\n",
    "m = [\n",
    "    [1,3,4,5,5],\n",
    "    [6,1,8,9,0],\n",
    "    [5,4,1,4,4],\n",
    "    [6,7,8,1,10],\n",
    "    [6,7,8,9,1]\n",
    "]\n",
    "\n",
    "print(\"*** 11.2 ***\")\n",
    "print(sumMajorDiagonal(m))\n"
   ]
  },
  {
   "cell_type": "code",
   "execution_count": 16,
   "metadata": {},
   "outputs": [
    {
     "name": "stdout",
     "output_type": "stream",
     "text": [
      "*** 11.4 ***\n",
      "Employee 0 hours worked: 34\n",
      "Employee 1 hours worked: 28\n",
      "Employee 2 hours worked: 20\n",
      "Employee 3 hours worked: 31\n"
     ]
    }
   ],
   "source": [
    "#11.4\n",
    "print(\"*** 11.4 ***\")\n",
    "def showTotalHours(l):\n",
    "    for i in range(len(l)):\n",
    "        print(\"Employee \" + str(i) + \" hours worked: \", end=\"\")\n",
    "        print(sum(l[i]))\n",
    "\n",
    "employeeHours = [\n",
    "    [2,4,3,4,5,8,8],\n",
    "    [7,3,4,3,3,4,4],\n",
    "    [3,3,4,3,3,2,2],\n",
    "    [9,3,4,7,3,4,1]\n",
    "]\n",
    "showTotalHours(employeeHours)"
   ]
  }
 ],
 "metadata": {
  "kernelspec": {
   "display_name": "Python 3",
   "language": "python",
   "name": "python3"
  },
  "language_info": {
   "codemirror_mode": {
    "name": "ipython",
    "version": 3
   },
   "file_extension": ".py",
   "mimetype": "text/x-python",
   "name": "python",
   "nbconvert_exporter": "python",
   "pygments_lexer": "ipython3",
   "version": "3.7.6"
  }
 },
 "nbformat": 4,
 "nbformat_minor": 4
}
