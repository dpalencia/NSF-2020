{
 "cells": [
  {
   "cell_type": "code",
   "execution_count": 51,
   "metadata": {},
   "outputs": [
    {
     "data": {
      "text/html": [
       "<div>\n",
       "<style scoped>\n",
       "    .dataframe tbody tr th:only-of-type {\n",
       "        vertical-align: middle;\n",
       "    }\n",
       "\n",
       "    .dataframe tbody tr th {\n",
       "        vertical-align: top;\n",
       "    }\n",
       "\n",
       "    .dataframe thead th {\n",
       "        text-align: right;\n",
       "    }\n",
       "</style>\n",
       "<table border=\"1\" class=\"dataframe\">\n",
       "  <thead>\n",
       "    <tr style=\"text-align: right;\">\n",
       "      <th></th>\n",
       "      <th>x1</th>\n",
       "      <th>y1</th>\n",
       "      <th>x2</th>\n",
       "      <th>y2</th>\n",
       "      <th>x3</th>\n",
       "      <th>y3</th>\n",
       "      <th>x4</th>\n",
       "      <th>y4</th>\n",
       "    </tr>\n",
       "  </thead>\n",
       "  <tbody>\n",
       "    <tr>\n",
       "      <th>0</th>\n",
       "      <td>10</td>\n",
       "      <td>8.04</td>\n",
       "      <td>10</td>\n",
       "      <td>9.14</td>\n",
       "      <td>10</td>\n",
       "      <td>7.46</td>\n",
       "      <td>8</td>\n",
       "      <td>6.58</td>\n",
       "    </tr>\n",
       "    <tr>\n",
       "      <th>1</th>\n",
       "      <td>8</td>\n",
       "      <td>6.95</td>\n",
       "      <td>8</td>\n",
       "      <td>8.14</td>\n",
       "      <td>8</td>\n",
       "      <td>6.77</td>\n",
       "      <td>8</td>\n",
       "      <td>5.76</td>\n",
       "    </tr>\n",
       "    <tr>\n",
       "      <th>2</th>\n",
       "      <td>13</td>\n",
       "      <td>7.58</td>\n",
       "      <td>13</td>\n",
       "      <td>8.74</td>\n",
       "      <td>13</td>\n",
       "      <td>12.74</td>\n",
       "      <td>8</td>\n",
       "      <td>7.71</td>\n",
       "    </tr>\n",
       "    <tr>\n",
       "      <th>3</th>\n",
       "      <td>9</td>\n",
       "      <td>8.81</td>\n",
       "      <td>9</td>\n",
       "      <td>8.77</td>\n",
       "      <td>9</td>\n",
       "      <td>7.11</td>\n",
       "      <td>8</td>\n",
       "      <td>8.84</td>\n",
       "    </tr>\n",
       "    <tr>\n",
       "      <th>4</th>\n",
       "      <td>11</td>\n",
       "      <td>8.33</td>\n",
       "      <td>11</td>\n",
       "      <td>9.26</td>\n",
       "      <td>11</td>\n",
       "      <td>7.81</td>\n",
       "      <td>8</td>\n",
       "      <td>8.47</td>\n",
       "    </tr>\n",
       "  </tbody>\n",
       "</table>\n",
       "</div>"
      ],
      "text/plain": [
       "   x1    y1  x2    y2  x3     y3  x4    y4\n",
       "0  10  8.04  10  9.14  10   7.46   8  6.58\n",
       "1   8  6.95   8  8.14   8   6.77   8  5.76\n",
       "2  13  7.58  13  8.74  13  12.74   8  7.71\n",
       "3   9  8.81   9  8.77   9   7.11   8  8.84\n",
       "4  11  8.33  11  9.26  11   7.81   8  8.47"
      ]
     },
     "execution_count": 51,
     "metadata": {},
     "output_type": "execute_result"
    }
   ],
   "source": [
    "import pandas as pd\n",
    "import numpy as np\n",
    "import matplotlib.pyplot as plt\n",
    "import scipy as sci\n",
    "data = pd.read_csv(\"AnscombesQuartet.csv\")\n",
    "data.head()\n"
   ]
  },
  {
   "cell_type": "code",
   "execution_count": 50,
   "metadata": {},
   "outputs": [
    {
     "data": {
      "text/plain": [
       "[<matplotlib.lines.Line2D at 0x21345139848>]"
      ]
     },
     "execution_count": 50,
     "metadata": {},
     "output_type": "execute_result"
    },
    {
     "data": {
      "image/png": "[encoded data removed]",
      "text/plain": [
       "<Figure size 432x288 with 4 Axes>"
      ]
     },
     "metadata": {
      "needs_background": "light"
     },
     "output_type": "display_data"
    }
   ],
   "source": [
    "fig, axs = plt.subplots(nrows=2, ncols=2)\n",
    "axs[0][0].plot(data[\"x1\"], data[\"y1\"], linestyle=\"none\", marker=\".\")\n",
    "axs[0][1].plot(data[\"x2\"], data[\"y2\"], linestyle=\"none\", marker=\".\")\n",
    "axs[1][0].plot(data[\"x3\"], data[\"y3\"], linestyle=\"none\", marker=\".\")\n",
    "axs[1][1].plot(data[\"x4\"], data[\"y4\"], linestyle=\"none\", marker=\".\")\n",
    "\n",
    "from scipy import stats\n",
    "lin1 = stats.linregress(data[\"x1\"], data[\"y1\"])\n",
    "min1 = data[\"x1\"].min()\n",
    "max1 = data[\"x1\"].max()\n",
    "slope1 = lin1[0]\n",
    "intercept1 = lin1[1]\n",
    "\n",
    "lin2 = stats.linregress(data[\"x2\"], data[\"y2\"])\n",
    "min2 = data[\"x2\"].min()\n",
    "max2 = data[\"x2\"].max()\n",
    "slope2 = lin2[0]\n",
    "intercept2 = lin2[1]\n",
    "\n",
    "lin3 = stats.linregress(data[\"x3\"], data[\"y3\"])\n",
    "min3 = data[\"x3\"].min()\n",
    "max3 = data[\"x3\"].max()\n",
    "slope3 = lin3[0]\n",
    "intercept3 = lin3[1]\n",
    "\n",
    "lin4 = stats.linregress(data[\"x4\"], data[\"y4\"])\n",
    "min4 = data[\"x4\"].min()\n",
    "max4 = data[\"x4\"].max()\n",
    "slope4 = lin4[0]\n",
    "intercept4 = lin4[1]\n",
    "\n",
    "\n",
    "axs[0][0].plot([min1, max1], [min1 * slope1 + intercept1, max1 * slope1 + intercept1])\n",
    "axs[0][1].plot([min2, max2], [min2 * slope2 + intercept2, max2 * slope2 + intercept2])\n",
    "axs[1][0].plot([min3, max3], [min3 * slope3 + intercept3, max3 * slope3 + intercept3])\n",
    "axs[1][1].plot([min4, max4], [min4 * slope4 + intercept4, max4 * slope4 + intercept4])\n"
   ]
  },
  {
   "cell_type": "markdown",
   "metadata": {},
   "source": [
    "First Plot\n",
    "The first plot fits with the linear regression line well.\n",
    "\n",
    "Second Plot\n",
    "The linear fit does not accurately describe the curve that the points take.\n",
    "A curved fit would be more accurate.\n",
    "\n",
    "Third plot\n",
    "The linear regression line fits well with the data, though the slope is skewed slightly higher due to one extreme data point.\n",
    "\n",
    "Fourth plot\n",
    "One outlier point is skewing the entire linear fit.\n",
    "Without it, the data would be described by the line x = 8."
   ]
  }
 ],
 "metadata": {
  "kernelspec": {
   "display_name": "Python 3",
   "language": "python",
   "name": "python3"
  },
  "language_info": {
   "codemirror_mode": {
    "name": "ipython",
    "version": 3
   },
   "file_extension": ".py",
   "mimetype": "text/x-python",
   "name": "python",
   "nbconvert_exporter": "python",
   "pygments_lexer": "ipython3",
   "version": "3.7.6"
  }
 },
 "nbformat": 4,
 "nbformat_minor": 4
}
