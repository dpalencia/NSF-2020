{
 "cells": [
  {
   "cell_type": "code",
   "execution_count": 2,
   "metadata": {},
   "outputs": [
    {
     "data": {
      "text/plain": [
       "72.69017017488386"
      ]
     },
     "execution_count": 2,
     "metadata": {},
     "output_type": "execute_result"
    }
   ],
   "source": [
    "#6.34\n",
    "import math\n",
    "def area_poly(n, s):\n",
    "    num = n * s ** 2\n",
    "    denom = 4 * math.tan(math.pi / n)\n",
    "    return num / denom\n",
    "area_poly(5, 6.5)\n",
    "\n",
    " \n",
    "          "
   ]
  },
  {
   "cell_type": "code",
   "execution_count": 87,
   "metadata": {},
   "outputs": [
    {
     "name": "stdout",
     "output_type": "stream",
     "text": [
      "True\n",
      "False\n",
      "True\n",
      "False\n"
     ]
    }
   ],
   "source": [
    "s = \"123123123asdasdSDFSD123123FSFDasd\" # Good string\n",
    "badString = \"s%%%%%%%%%%%%d\" # Bad String\n",
    "\n",
    "#8-3 With Conditionals\n",
    "def passCheck(s):\n",
    "    if len(s) < 8:\n",
    "        return False\n",
    "    charCount = 0\n",
    "    for c in s:\n",
    "        charCount += 1\n",
    "        if not ((ord(c) >= 48 and ord(c) <= 57) or \\\n",
    "             (ord(c) >= 97 and ord(c) <= 122) or \\\n",
    "             (ord(c) >= 65 and ord(c) <= 90)):\n",
    "                return False\n",
    "    if charCount < 2:\n",
    "        return False\n",
    "    return True\n",
    "print(passCheck(s))\n",
    "print(passCheck(badString))\n",
    "\n",
    "#8-3 With Regex\n",
    "import re\n",
    "def passCheckRegex(s):\n",
    "    if len(s) < 8:\n",
    "        return False\n",
    "    if not re.fullmatch(\"([a-z]|[A-Z]|[0-9])*\", s): \n",
    "        return False\n",
    "    if len(re.findall(\"[0-9]\", s)) < 2:\n",
    "        return False\n",
    "    return True\n",
    "print(passCheckRegex(s))\n",
    "print(passCheckRegex(badString))\n"
   ]
  },
  {
   "cell_type": "code",
   "execution_count": 55,
   "metadata": {},
   "outputs": [
    {
     "name": "stdout",
     "output_type": "stream",
     "text": [
      "thecodinglegend27  is valid\n"
     ]
    }
   ],
   "source": [
    "## Define password\n",
    "password = \"thecodinglegend27\"\n",
    "## define password checking function: checkpass()\n",
    "def checkpass(password):\n",
    "    if len(password) >= 8:\n",
    "        print(password, \" is valid\")\n",
    "    else:\n",
    "        print(\"invalid password\")\n",
    "## run checkpass\n",
    "checkpass(password)\n"
   ]
  },
  {
   "cell_type": "code",
   "execution_count": null,
   "metadata": {},
   "outputs": [],
   "source": []
  }
 ],
 "metadata": {
  "kernelspec": {
   "display_name": "Python 3",
   "language": "python",
   "name": "python3"
  },
  "language_info": {
   "codemirror_mode": {
    "name": "ipython",
    "version": 3
   },
   "file_extension": ".py",
   "mimetype": "text/x-python",
   "name": "python",
   "nbconvert_exporter": "python",
   "pygments_lexer": "ipython3",
   "version": "3.7.6"
  }
 },
 "nbformat": 4,
 "nbformat_minor": 4
}
