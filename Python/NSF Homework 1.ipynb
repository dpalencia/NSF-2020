{
 "cells": [
  {
   "cell_type": "code",
   "execution_count": 1,
   "metadata": {},
   "outputs": [
    {
     "name": "stdout",
     "output_type": "stream",
     "text": [
      "3.140592653839794\n",
      "325932966\n",
      "100\n",
      ".1\n",
      "1\n",
      "100.10004584606733\n"
     ]
    }
   ],
   "source": [
    "# Exercise 1\n",
    "fractionSum = 0\n",
    "for n in  range(1000):\n",
    "        numerator  = (-1) ** n\n",
    "        denominator = (2 * n + 1)\n",
    "        fractionSum = fractionSum + numerator / denominator\n",
    "pi = 4 *  fractionSum\n",
    "print(pi)\n",
    "\n",
    "# Exercise 2\n",
    "currPop = 312032486\n",
    "year = 365\n",
    "day = 86400\n",
    "yearSecs = year * day\n",
    "births = yearSecs // 7\n",
    "deaths = yearSecs // 13\n",
    "immigrants = yearSecs // 45\n",
    "totalPop = currPop + 5 * (births - deaths + immigrants)\n",
    "print(totalPop)\n",
    "\n",
    "# Exercise 3\n",
    "investmentAmount = eval(input())\n",
    "interestRate = eval(input())\n",
    "numberOfYears = eval(input())\n",
    "futureInvestmentValue = investmentAmount * (1 + (interestRate / 1200)) ** (numberOfYears * 12)\n",
    "print(futureInvestmentValue)\n",
    "\n"
   ]
  },
  {
   "cell_type": "code",
   "execution_count": null,
   "metadata": {},
   "outputs": [],
   "source": []
  }
 ],
 "metadata": {
  "kernelspec": {
   "display_name": "Python 3",
   "language": "python",
   "name": "python3"
  },
  "language_info": {
   "codemirror_mode": {
    "name": "ipython",
    "version": 3
   },
   "file_extension": ".py",
   "mimetype": "text/x-python",
   "name": "python",
   "nbconvert_exporter": "python",
   "pygments_lexer": "ipython3",
   "version": "3.7.6"
  }
 },
 "nbformat": 4,
 "nbformat_minor": 4
}
